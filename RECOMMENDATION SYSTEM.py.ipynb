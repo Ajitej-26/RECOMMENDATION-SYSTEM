{
 "cells": [
  {
   "cell_type": "code",
   "execution_count": 4,
   "id": "11f82759-95dd-496a-8193-aad89a8200ea",
   "metadata": {},
   "outputs": [
    {
     "ename": "ModuleNotFoundError",
     "evalue": "No module named 'surprise'",
     "output_type": "error",
     "traceback": [
      "\u001b[1;31m---------------------------------------------------------------------------\u001b[0m",
      "\u001b[1;31mModuleNotFoundError\u001b[0m                       Traceback (most recent call last)",
      "Cell \u001b[1;32mIn[4], line 2\u001b[0m\n\u001b[0;32m      1\u001b[0m \u001b[38;5;66;03m# 📦 Step 1: Import Libraries\u001b[39;00m\n\u001b[1;32m----> 2\u001b[0m \u001b[38;5;28;01mfrom\u001b[39;00m \u001b[38;5;21;01msurprise\u001b[39;00m \u001b[38;5;28;01mimport\u001b[39;00m Dataset, Reader, SVD\n\u001b[0;32m      3\u001b[0m \u001b[38;5;28;01mfrom\u001b[39;00m \u001b[38;5;21;01msurprise\u001b[39;00m\u001b[38;5;21;01m.\u001b[39;00m\u001b[38;5;21;01mmodel_selection\u001b[39;00m \u001b[38;5;28;01mimport\u001b[39;00m train_test_split, cross_validate\n\u001b[0;32m      4\u001b[0m \u001b[38;5;28;01mfrom\u001b[39;00m \u001b[38;5;21;01msurprise\u001b[39;00m \u001b[38;5;28;01mimport\u001b[39;00m accuracy\n",
      "\u001b[1;31mModuleNotFoundError\u001b[0m: No module named 'surprise'"
     ]
    }
   ],
   "source": [
    "# 📦 Step 1: Import Libraries\n",
    "from surprise import Dataset, Reader, SVD\n",
    "from surprise.model_selection import train_test_split, cross_validate\n",
    "from surprise import accuracy\n",
    "import pandas as pd\n",
    "\n",
    "# 📁 Step 2: Load Your CSV File\n",
    "file_path = \"ratings.csv\"  # Make sure this is in your Jupyter notebook folder\n",
    "df = pd.read_csv(file_path)\n",
    "\n",
    "# 🔍 Step 3: Inspect the Data\n",
    "print(df.head())\n",
    "\n",
    "# 📐 Step 4: Define Reader and Load Dataset\n",
    "reader = Reader(rating_scale=(1, 5))\n",
    "data = Dataset.load_from_df(df[[\"userId\", \"itemId\", \"rating\"]], reader)\n",
    "\n",
    "# ✂️ Step 5: Train/Test Split\n",
    "trainset, testset = train_test_split(data, test_size=0.25)\n",
    "\n",
    "# 🔧 Step 6: Initialize Model (SVD)\n",
    "model = SVD()\n",
    "\n",
    "# 🚆 Step 7: Train the Model\n",
    "model.fit(trainset)\n",
    "\n",
    "# 🎯 Step 8: Make Predictions\n",
    "predictions = model.test(testset)\n",
    "\n",
    "# 📊 Step 9: Evaluate Model\n",
    "rmse = accuracy.rmse(predictions)\n",
    "print(f\"RMSE: {rmse:.4f}\")\n",
    "\n",
    "# ✅ Step 10: Done!\n"
   ]
  }
 ],
 "metadata": {
  "kernelspec": {
   "display_name": "Python 3 (ipykernel)",
   "language": "python",
   "name": "python3"
  },
  "language_info": {
   "codemirror_mode": {
    "name": "ipython",
    "version": 3
   },
   "file_extension": ".py",
   "mimetype": "text/x-python",
   "name": "python",
   "nbconvert_exporter": "python",
   "pygments_lexer": "ipython3",
   "version": "3.12.7"
  }
 },
 "nbformat": 4,
 "nbformat_minor": 5
}
